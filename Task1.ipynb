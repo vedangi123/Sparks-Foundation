{
  "nbformat": 4,
  "nbformat_minor": 0,
  "metadata": {
    "colab": {
      "name": "Untitled2.ipynb",
      "provenance": [],
      "collapsed_sections": [],
      "authorship_tag": "ABX9TyMAs0X17lHbm4Lcxh2PmIKA"
    },
    "kernelspec": {
      "name": "python3",
      "display_name": "Python 3"
    },
    "language_info": {
      "name": "python"
    }
  },
  "cells": [
    {
      "cell_type": "markdown",
      "source": [
        "**OBJECT DETECTION/ OPTICAL CHARACTER RECOGNITION(ORC)**\n",
        "\n",
        "**NAME - VEDANGI PIMPARKAR**\n",
        "\n",
        "**INTERN AT - SPARKS FOUNDATION**\n",
        "\n",
        "**DOMAIN - COMPUTER VISION & INTERNET OF THINGS**"
      ],
      "metadata": {
        "id": "w5XApBxBPB9L"
      }
    },
    {
      "cell_type": "code",
      "execution_count": null,
      "metadata": {
        "id": "EZzL4LHhUHZO"
      },
      "outputs": [],
      "source": [
        "pip install -q keras_ocr  pip install imageAI"
      ]
    },
    {
      "cell_type": "code",
      "source": [
        "import keras_ocr\n",
        "import matplotlib.pyplot as plt"
      ],
      "metadata": {
        "id": "tW-YFQQgUQrQ"
      },
      "execution_count": null,
      "outputs": []
    },
    {
      "cell_type": "code",
      "source": [
        "pipeline = keras_ocr.pipeline.Pipeline()"
      ],
      "metadata": {
        "colab": {
          "base_uri": "https://localhost:8080/"
        },
        "id": "dNZWzolkUX1E",
        "outputId": "8271f57c-b35e-45a4-ef60-9721c488637c"
      },
      "execution_count": null,
      "outputs": [
        {
          "output_type": "stream",
          "name": "stdout",
          "text": [
            "Looking for /root/.keras-ocr/craft_mlt_25k.h5\n",
            "Downloading /root/.keras-ocr/craft_mlt_25k.h5\n",
            "Looking for /root/.keras-ocr/crnn_kurapan.h5\n",
            "Downloading /root/.keras-ocr/crnn_kurapan.h5\n"
          ]
        }
      ]
    },
    {
      "cell_type": "code",
      "source": [
        "images = [\n",
        "          keras_ocr.tools.read(img) for img in ['/img4.jpg',\n",
        "                                                '/img 3.jpg'\n",
        "          ]\n",
        "]"
      ],
      "metadata": {
        "id": "qWpHYHcbV44_"
      },
      "execution_count": null,
      "outputs": []
    },
    {
      "cell_type": "code",
      "source": [
        "predictions_group = pipeline.recognize(images)"
      ],
      "metadata": {
        "id": "LRMzHHKYXcih"
      },
      "execution_count": null,
      "outputs": []
    },
    {
      "cell_type": "code",
      "source": [
        "fig, axs = plt.subplots(nrows = len(images), figsize=(10,10))\n",
        "for ax, image, predictions in zip(axs,images,predictions_group):\n",
        "\n",
        "  keras_ocr.tools.drawAnnotations\n",
        "  \n",
        "  image=image,\n",
        "  predictions=predictions,\n",
        "  ax=ax"
      ],
      "metadata": {
        "colab": {
          "base_uri": "https://localhost:8080/",
          "height": 596
        },
        "id": "ADzv_B5qY1zW",
        "outputId": "89a9c523-a54b-40e0-ac95-8a77bef2aa51"
      },
      "execution_count": null,
      "outputs": [
        {
          "output_type": "display_data",
          "data": {
            "text/plain": [
              "<Figure size 720x720 with 2 Axes>"
            ],
            "image/png": "[encoded data removed]"
          },
          "metadata": {
            "needs_background": "light"
          }
        }
      ]
    },
    {
      "cell_type": "code",
      "source": [
        "count=1\n",
        "for x in predictions_group:\n",
        "  print('--------{} images--------'.format(count))\n",
        "  for i in x:\n",
        "    print(i[0])\n",
        "  count+=1"
      ],
      "metadata": {
        "colab": {
          "base_uri": "https://localhost:8080/"
        },
        "id": "V-rv-C2PaZay",
        "outputId": "27142f53-7018-422b-cc64-ad9e3ff89aa0"
      },
      "execution_count": null,
      "outputs": [
        {
          "output_type": "stream",
          "name": "stdout",
          "text": [
            "--------1 images--------\n",
            "doge\n",
            "98\n",
            "ovo\n",
            "881\n",
            "o00\n",
            "cat\n",
            "--------2 images--------\n",
            "laptoe\n",
            "die\n",
            "noebock\n",
            "colle\n"
          ]
        }
      ]
    }
  ]
}